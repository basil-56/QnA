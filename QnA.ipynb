{
  "nbformat": 4,
  "nbformat_minor": 0,
  "metadata": {
    "colab": {
      "provenance": []
    },
    "kernelspec": {
      "name": "python3",
      "display_name": "Python 3"
    },
    "language_info": {
      "name": "python"
    }
  },
  "cells": [
    {
      "cell_type": "code",
      "execution_count": null,
      "metadata": {
        "id": "JHtAnUOnNOrd"
      },
      "outputs": [],
      "source": [
        "!pip install pinecone-client\n",
        "!pip install python-dotenv\n",
        "!pip install langchain\n",
        "!pip install PyPDF\n",
        "!pip install PyPDF2\n",
        "!pip install OpenAI\n",
        "!pip install tiktoken\n",
        "!pip install sentence-transformers==2.2.2"
      ]
    },
    {
      "cell_type": "code",
      "source": [
        "\n",
        "\n",
        "import pinecone\n",
        "from langchain.text_splitter import RecursiveCharacterTextSplitter\n",
        "from langchain.vectorstores import Pinecone\n",
        "from sentence_transformers import SentenceTransformer\n",
        "import torch\n",
        "\n",
        "\n"
      ],
      "metadata": {
        "id": "veXblK1PNS7E"
      },
      "execution_count": 29,
      "outputs": []
    },
    {
      "cell_type": "code",
      "source": [
        "from dotenv import load_dotenv\n",
        "import os\n",
        "load_dotenv()\n",
        "\n",
        "PINECONE_API_KEY = os.getenv(\"PINECONE_API_KEY\")\n",
        "\n",
        "OPENAI_API_KEY=os.getenv(\"OPENAI_API_KEY\")"
      ],
      "metadata": {
        "id": "PP6ynfEfPrC-"
      },
      "execution_count": 10,
      "outputs": []
    },
    {
      "cell_type": "code",
      "source": [
        "from pinecone import Pinecone\n",
        "\n",
        "pc = Pinecone(api_key=PINECONE_API_KEY)\n",
        "\n",
        "index_name = 'weirdfacts'\n",
        "index = pc.Index(index_name)\n",
        "\n",
        "\n"
      ],
      "metadata": {
        "id": "bWBRt6ZqOAd3"
      },
      "execution_count": 30,
      "outputs": []
    },
    {
      "cell_type": "code",
      "source": [
        "from langchain.document_loaders import UnstructuredPDFLoader, OnlinePDFLoader, PyPDFLoader\n",
        "loader = PyPDFLoader(\"/content/WEIRD_HYPOTHTETICAL_FACTS.pdf\")"
      ],
      "metadata": {
        "id": "nB6qBdy3P0eO"
      },
      "execution_count": 31,
      "outputs": []
    },
    {
      "cell_type": "code",
      "source": [
        "file_content = loader.load()"
      ],
      "metadata": {
        "id": "NENNh4WXRdE0"
      },
      "execution_count": 32,
      "outputs": []
    },
    {
      "cell_type": "code",
      "source": [
        "len(file_content)"
      ],
      "metadata": {
        "colab": {
          "base_uri": "https://localhost:8080/"
        },
        "id": "khKdSbCVSWtG",
        "outputId": "45125dba-2c92-49c6-9ac4-39dfe2bf6ddd"
      },
      "execution_count": 33,
      "outputs": [
        {
          "output_type": "execute_result",
          "data": {
            "text/plain": [
              "1"
            ]
          },
          "metadata": {},
          "execution_count": 33
        }
      ]
    },
    {
      "cell_type": "code",
      "source": [
        "print(file_content)"
      ],
      "metadata": {
        "colab": {
          "base_uri": "https://localhost:8080/"
        },
        "id": "7I3YmJfESbcS",
        "outputId": "78f7bb54-a3ef-42b9-c41c-6ee387287251"
      },
      "execution_count": 34,
      "outputs": [
        {
          "output_type": "stream",
          "name": "stdout",
          "text": [
            "[Document(page_content='1.\\nIn\\na\\nworld\\nwhere\\ngravity\\nfluctuates\\nunpredictably,\\npeople\\nmust\\nwear\\nspecialized\\nboots\\nequipped\\nwith\\nanti-gravity\\ntechnology\\nto\\nremain\\ngrounded.\\n2.\\nImagine\\na\\nsociety\\nwhere\\nemotions\\nare\\ntangible\\nobjects\\nthat\\ncan\\nbe\\ntraded,\\nbought,\\nand\\nsold\\nin\\na\\nbustling\\nmarketplace.\\n3.\\nPicture\\na\\nplanet\\nwhere\\nplants\\ncommunicate\\nthrough\\nintricate\\nmusical\\nmelodies,\\nforming\\nharmonious\\nsymphonies\\nthat\\necho\\nthrough\\nthe\\nforests.\\n4.\\nConsider\\na\\nparallel\\nuniverse\\nwhere\\ntime\\nflows\\nbackward,\\ncausing\\npeople\\nto\\nage\\nin\\nreverse\\nand\\nmemories\\nto\\nfade\\ninto\\nthe\\nfuture.\\n5.\\nIn\\na\\ndimension\\ngoverned\\nby\\ncolor,\\nindividuals\\npossess\\nthe\\nability\\nto\\nmanipulate\\nhues\\nto\\nalter\\nthe\\nfabric\\nof\\nreality\\nitself.\\n6.\\nEnvision\\na\\nrealm\\nwhere\\ndreams\\nmanifest\\nas\\nphysical\\nentities,\\nwandering\\nthe\\nstreets\\nlike\\nethereal\\nbeings\\nseeking\\npurpose.\\n7.\\nPicture\\na\\ncivilization\\nwhere\\nevery\\ndecision\\nis\\ndetermined\\nby\\nthe\\nroll\\nof\\nenchanted\\ndice,\\nshaping\\ndestinies\\nwith\\neach\\ncast.\\n8.\\nImagine\\na\\nhidden\\nisland\\nwhere\\nsentient\\ncrystals\\nhold\\nthe\\nsecrets\\nof\\nthe\\nuniverse,\\nglowing\\nwith\\notherworldly\\nwisdom.\\n9.\\nIn\\na\\nworld\\nwhere\\nmirrors\\nserve\\nas\\ngateways\\nto\\nalternate\\ndimensions,\\nreflections\\nbecome\\nportals\\nto\\nparallel\\nlives.\\n10.\\nConsider\\na\\nrealm\\nwhere\\nwhispers\\nhold\\nimmense\\npower,\\nshaping\\nthe\\ncourse\\nof\\nhistory\\nwith\\neach\\nuttered\\nword.', metadata={'source': '/content/WEIRD_HYPOTHTETICAL_FACTS.pdf', 'page': 0})]\n"
          ]
        }
      ]
    },
    {
      "cell_type": "code",
      "source": [
        "\n",
        "text_splitter = RecursiveCharacterTextSplitter(\n",
        "    chunk_size = 1000,\n",
        "    chunk_overlap  = 0,\n",
        "    length_function = len,\n",
        ")\n",
        "book_texts = text_splitter.split_documents(file_content)\n",
        "print (len(book_texts))\n",
        "type(book_texts)\n",
        "\n"
      ],
      "metadata": {
        "colab": {
          "base_uri": "https://localhost:8080/"
        },
        "id": "HMw6EsCWSe-w",
        "outputId": "3fcba396-804a-4679-baf5-63ff83ae1b0c"
      },
      "execution_count": 35,
      "outputs": [
        {
          "output_type": "stream",
          "name": "stdout",
          "text": [
            "2\n"
          ]
        },
        {
          "output_type": "execute_result",
          "data": {
            "text/plain": [
              "list"
            ]
          },
          "metadata": {},
          "execution_count": 35
        }
      ]
    },
    {
      "cell_type": "code",
      "source": [
        "from langchain.embeddings.openai import OpenAIEmbeddings"
      ],
      "metadata": {
        "id": "wWElc1fnjqxb"
      },
      "execution_count": 22,
      "outputs": []
    },
    {
      "cell_type": "code",
      "source": [
        "embeddings = OpenAIEmbeddings(openai_api_key=OPENAI_API_KEY)"
      ],
      "metadata": {
        "id": "CeBLmBfOjr2s"
      },
      "execution_count": 36,
      "outputs": []
    },
    {
      "cell_type": "code",
      "source": [
        "from langchain.vectorstores import Pinecone\n",
        "book_docsearch = Pinecone.from_documents(book_texts, embeddings, index_name = index_name)"
      ],
      "metadata": {
        "id": "wA5ipacoSj5e"
      },
      "execution_count": 37,
      "outputs": []
    },
    {
      "cell_type": "code",
      "source": [
        "from langchain.llms import OpenAI\n",
        "llm = OpenAI(temperature=0, openai_api_key=OPENAI_API_KEY)\n"
      ],
      "metadata": {
        "colab": {
          "base_uri": "https://localhost:8080/"
        },
        "id": "q5y2J3Klhqh8",
        "outputId": "0ae4ca3e-1e73-4878-e814-27aa800b3db4"
      },
      "execution_count": 25,
      "outputs": [
        {
          "output_type": "stream",
          "name": "stderr",
          "text": [
            "/usr/local/lib/python3.10/dist-packages/langchain_core/_api/deprecation.py:117: LangChainDeprecationWarning: The class `langchain_community.llms.openai.OpenAI` was deprecated in langchain-community 0.0.10 and will be removed in 0.2.0. An updated version of the class exists in the langchain-openai package and should be used instead. To use it run `pip install -U langchain-openai` and import as `from langchain_openai import OpenAI`.\n",
            "  warn_deprecated(\n"
          ]
        }
      ]
    },
    {
      "cell_type": "code",
      "source": [
        "query = \"what happens in mirror dimension?\"\n",
        "docs = book_docsearch.similarity_search(query)\n",
        "\n"
      ],
      "metadata": {
        "id": "PN6uoM0hI5UD"
      },
      "execution_count": 38,
      "outputs": []
    },
    {
      "cell_type": "code",
      "source": [
        "docs[0]"
      ],
      "metadata": {
        "colab": {
          "base_uri": "https://localhost:8080/"
        },
        "id": "Gx8fTMyHOBLy",
        "outputId": "b7bc28f6-0927-48ea-8e3e-7e13ee4a1dc3"
      },
      "execution_count": 39,
      "outputs": [
        {
          "output_type": "execute_result",
          "data": {
            "text/plain": [
              "Document(page_content='universe,\\nglowing\\nwith\\notherworldly\\nwisdom.\\n9.\\nIn\\na\\nworld\\nwhere\\nmirrors\\nserve\\nas\\ngateways\\nto\\nalternate\\ndimensions,\\nreflections\\nbecome\\nportals\\nto\\nparallel\\nlives.\\n10.\\nConsider\\na\\nrealm\\nwhere\\nwhispers\\nhold\\nimmense\\npower,\\nshaping\\nthe\\ncourse\\nof\\nhistory\\nwith\\neach\\nuttered\\nword.', metadata={'page': 0.0, 'source': '/content/WEIRD_HYPOTHTETICAL_FACTS.pdf'})"
            ]
          },
          "metadata": {},
          "execution_count": 39
        }
      ]
    },
    {
      "cell_type": "code",
      "source": [
        "from langchain.chains.question_answering import load_qa_chain\n",
        "\n",
        "\n",
        "chain = load_qa_chain(llm, chain_type=\"stuff\")\n",
        "chain.run(input_documents=docs, question=query)\n",
        "\n",
        "\n"
      ],
      "metadata": {
        "id": "W0oiVznwYz4I",
        "colab": {
          "base_uri": "https://localhost:8080/",
          "height": 35
        },
        "outputId": "8fec01d1-a279-4278-ae16-86f3323e1356"
      },
      "execution_count": 40,
      "outputs": [
        {
          "output_type": "execute_result",
          "data": {
            "text/plain": [
              "' In the mirror dimension, reflections serve as portals to parallel lives.'"
            ],
            "application/vnd.google.colaboratory.intrinsic+json": {
              "type": "string"
            }
          },
          "metadata": {},
          "execution_count": 40
        }
      ]
    }
  ]
}