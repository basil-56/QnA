{
  "nbformat": 4,
  "nbformat_minor": 0,
  "metadata": {
    "colab": {
      "provenance": []
    },
    "kernelspec": {
      "name": "python3",
      "display_name": "Python 3"
    },
    "language_info": {
      "name": "python"
    }
  },
  "cells": [
    {
      "cell_type": "code",
      "execution_count": null,
      "metadata": {
        "id": "JHtAnUOnNOrd"
      },
      "outputs": [],
      "source": [
        "!pip install pinecone-client\n",
        "!pip install python-dotenv\n",
        "!pip install langchain\n",
        "!pip install PyPDF\n",
        "!pip install PyPDF2\n",
        "!pip install OpenAI\n",
        "!pip install tiktoken"
      ]
    },
    {
      "cell_type": "code",
      "source": [
        "import pinecone\n",
        "from langchain.text_splitter import RecursiveCharacterTextSplitter\n",
        "from langchain.vectorstores import Pinecone"
      ],
      "metadata": {
        "id": "veXblK1PNS7E"
      },
      "execution_count": 13,
      "outputs": []
    },
    {
      "cell_type": "code",
      "source": [
        "!cat > .env"
      ],
      "metadata": {
        "colab": {
          "base_uri": "https://localhost:8080/"
        },
        "id": "BC_-yRnMldga",
        "outputId": "9ad51bfd-ac2e-4299-a75a-628ab271da7b"
      },
      "execution_count": 14,
      "outputs": [
        {
          "output_type": "stream",
          "name": "stdout",
          "text": [
            "^C\n"
          ]
        }
      ]
    },
    {
      "cell_type": "code",
      "source": [
        "from dotenv import load_dotenv\n",
        "import os\n",
        "load_dotenv()\n",
        "\n",
        "PINECONE_API_KEY = os.getenv(\"PINECONE_API_KEY\")\n",
        "\n",
        "OPENAI_API_KEY=os.getenv(\"OPENAI_API_KEY\")"
      ],
      "metadata": {
        "id": "PP6ynfEfPrC-"
      },
      "execution_count": 28,
      "outputs": []
    },
    {
      "cell_type": "code",
      "source": [
        "from pinecone import Pinecone\n",
        "\n",
        "pc = Pinecone(api_key=PINECONE_API_KEY)\n",
        "\n",
        "index_name = 'weirdfacts'\n",
        "index = pc.Index(index_name)\n",
        "\n",
        "\n"
      ],
      "metadata": {
        "id": "bWBRt6ZqOAd3"
      },
      "execution_count": 29,
      "outputs": []
    },
    {
      "cell_type": "code",
      "source": [
        "from langchain.document_loaders import UnstructuredPDFLoader, OnlinePDFLoader, PyPDFLoader\n",
        "loader = PyPDFLoader(\"/content/WEIRD_HYPOTHTETICAL_FACTS.pdf\")"
      ],
      "metadata": {
        "id": "nB6qBdy3P0eO"
      },
      "execution_count": 30,
      "outputs": []
    },
    {
      "cell_type": "code",
      "source": [
        "file_content = loader.load()"
      ],
      "metadata": {
        "id": "NENNh4WXRdE0"
      },
      "execution_count": 31,
      "outputs": []
    },
    {
      "cell_type": "code",
      "source": [
        "len(file_content)"
      ],
      "metadata": {
        "colab": {
          "base_uri": "https://localhost:8080/"
        },
        "id": "khKdSbCVSWtG",
        "outputId": "6df61cbb-47e1-44ce-814b-81cb676528c6"
      },
      "execution_count": 32,
      "outputs": [
        {
          "output_type": "execute_result",
          "data": {
            "text/plain": [
              "1"
            ]
          },
          "metadata": {},
          "execution_count": 32
        }
      ]
    },
    {
      "cell_type": "code",
      "source": [
        "print(file_content)"
      ],
      "metadata": {
        "colab": {
          "base_uri": "https://localhost:8080/"
        },
        "id": "7I3YmJfESbcS",
        "outputId": "7f782dcf-01ea-46db-a6d6-7e709e5b1ee2"
      },
      "execution_count": 33,
      "outputs": [
        {
          "output_type": "stream",
          "name": "stdout",
          "text": [
            "[Document(page_content='1.\\nIn\\na\\nworld\\nwhere\\ngravity\\nfluctuates\\nunpredictably,\\npeople\\nmust\\nwear\\nspecialized\\nboots\\nequipped\\nwith\\nanti-gravity\\ntechnology\\nto\\nremain\\ngrounded.\\n2.\\nImagine\\na\\nsociety\\nwhere\\nemotions\\nare\\ntangible\\nobjects\\nthat\\ncan\\nbe\\ntraded,\\nbought,\\nand\\nsold\\nin\\na\\nbustling\\nmarketplace.\\n3.\\nPicture\\na\\nplanet\\nwhere\\nplants\\ncommunicate\\nthrough\\nintricate\\nmusical\\nmelodies,\\nforming\\nharmonious\\nsymphonies\\nthat\\necho\\nthrough\\nthe\\nforests.\\n4.\\nConsider\\na\\nparallel\\nuniverse\\nwhere\\ntime\\nflows\\nbackward,\\ncausing\\npeople\\nto\\nage\\nin\\nreverse\\nand\\nmemories\\nto\\nfade\\ninto\\nthe\\nfuture.\\n5.\\nIn\\na\\ndimension\\ngoverned\\nby\\ncolor,\\nindividuals\\npossess\\nthe\\nability\\nto\\nmanipulate\\nhues\\nto\\nalter\\nthe\\nfabric\\nof\\nreality\\nitself.\\n6.\\nEnvision\\na\\nrealm\\nwhere\\ndreams\\nmanifest\\nas\\nphysical\\nentities,\\nwandering\\nthe\\nstreets\\nlike\\nethereal\\nbeings\\nseeking\\npurpose.\\n7.\\nPicture\\na\\ncivilization\\nwhere\\nevery\\ndecision\\nis\\ndetermined\\nby\\nthe\\nroll\\nof\\nenchanted\\ndice,\\nshaping\\ndestinies\\nwith\\neach\\ncast.\\n8.\\nImagine\\na\\nhidden\\nisland\\nwhere\\nsentient\\ncrystals\\nhold\\nthe\\nsecrets\\nof\\nthe\\nuniverse,\\nglowing\\nwith\\notherworldly\\nwisdom.\\n9.\\nIn\\na\\nworld\\nwhere\\nmirrors\\nserve\\nas\\ngateways\\nto\\nalternate\\ndimensions,\\nreflections\\nbecome\\nportals\\nto\\nparallel\\nlives.\\n10.\\nConsider\\na\\nrealm\\nwhere\\nwhispers\\nhold\\nimmense\\npower,\\nshaping\\nthe\\ncourse\\nof\\nhistory\\nwith\\neach\\nuttered\\nword.', metadata={'source': '/content/WEIRD_HYPOTHTETICAL_FACTS.pdf', 'page': 0})]\n"
          ]
        }
      ]
    },
    {
      "cell_type": "code",
      "source": [
        "\n",
        "text_splitter = RecursiveCharacterTextSplitter(\n",
        "    chunk_size = 1000,\n",
        "    chunk_overlap  = 0,\n",
        "    length_function = len,\n",
        ")\n",
        "book_texts = text_splitter.split_documents(file_content)\n",
        "print (len(book_texts))\n",
        "type(book_texts)\n",
        "\n"
      ],
      "metadata": {
        "colab": {
          "base_uri": "https://localhost:8080/"
        },
        "id": "HMw6EsCWSe-w",
        "outputId": "1b9c4c95-bbd0-4289-f570-d51012a07f55"
      },
      "execution_count": 34,
      "outputs": [
        {
          "output_type": "stream",
          "name": "stdout",
          "text": [
            "2\n"
          ]
        },
        {
          "output_type": "execute_result",
          "data": {
            "text/plain": [
              "list"
            ]
          },
          "metadata": {},
          "execution_count": 34
        }
      ]
    },
    {
      "cell_type": "code",
      "source": [
        "from langchain.embeddings.openai import OpenAIEmbeddings"
      ],
      "metadata": {
        "id": "wWElc1fnjqxb"
      },
      "execution_count": 35,
      "outputs": []
    },
    {
      "cell_type": "code",
      "source": [
        "embeddings = OpenAIEmbeddings(openai_api_key=OPENAI_API_KEY)"
      ],
      "metadata": {
        "id": "CeBLmBfOjr2s"
      },
      "execution_count": 36,
      "outputs": []
    },
    {
      "cell_type": "code",
      "source": [
        "from langchain.vectorstores import Pinecone\n",
        "book_docsearch = Pinecone.from_documents(book_texts, embeddings, index_name = index_name)"
      ],
      "metadata": {
        "id": "wA5ipacoSj5e"
      },
      "execution_count": 37,
      "outputs": []
    },
    {
      "cell_type": "code",
      "source": [
        "from langchain.llms import OpenAI\n",
        "llm = OpenAI(temperature=0, openai_api_key=OPENAI_API_KEY)\n"
      ],
      "metadata": {
        "id": "q5y2J3Klhqh8"
      },
      "execution_count": 38,
      "outputs": []
    },
    {
      "cell_type": "code",
      "source": [
        "query = \"what happens in mirror dimension?\"\n",
        "docs = book_docsearch.similarity_search(query)\n",
        "\n"
      ],
      "metadata": {
        "id": "PN6uoM0hI5UD"
      },
      "execution_count": 40,
      "outputs": []
    },
    {
      "cell_type": "code",
      "source": [
        "docs[0]"
      ],
      "metadata": {
        "colab": {
          "base_uri": "https://localhost:8080/"
        },
        "id": "Gx8fTMyHOBLy",
        "outputId": "f95784e1-6944-4870-da43-7589da703b21"
      },
      "execution_count": 41,
      "outputs": [
        {
          "output_type": "execute_result",
          "data": {
            "text/plain": [
              "Document(page_content='universe,\\nglowing\\nwith\\notherworldly\\nwisdom.\\n9.\\nIn\\na\\nworld\\nwhere\\nmirrors\\nserve\\nas\\ngateways\\nto\\nalternate\\ndimensions,\\nreflections\\nbecome\\nportals\\nto\\nparallel\\nlives.\\n10.\\nConsider\\na\\nrealm\\nwhere\\nwhispers\\nhold\\nimmense\\npower,\\nshaping\\nthe\\ncourse\\nof\\nhistory\\nwith\\neach\\nuttered\\nword.', metadata={'page': 0.0, 'source': '/content/WEIRD_HYPOTHTETICAL_FACTS.pdf'})"
            ]
          },
          "metadata": {},
          "execution_count": 41
        }
      ]
    },
    {
      "cell_type": "code",
      "source": [
        "from langchain.chains.question_answering import load_qa_chain\n",
        "\n",
        "\n",
        "chain = load_qa_chain(llm, chain_type=\"stuff\")\n",
        "chain.run(input_documents=docs, question=query)\n",
        "\n",
        "\n"
      ],
      "metadata": {
        "id": "W0oiVznwYz4I",
        "colab": {
          "base_uri": "https://localhost:8080/",
          "height": 90
        },
        "outputId": "fac41fe7-d03d-42c8-e9c8-2f6b1640f161"
      },
      "execution_count": 42,
      "outputs": [
        {
          "output_type": "stream",
          "name": "stderr",
          "text": [
            "/usr/local/lib/python3.10/dist-packages/langchain_core/_api/deprecation.py:117: LangChainDeprecationWarning: The function `run` was deprecated in LangChain 0.1.0 and will be removed in 0.2.0. Use invoke instead.\n",
            "  warn_deprecated(\n"
          ]
        },
        {
          "output_type": "execute_result",
          "data": {
            "text/plain": [
              "' In the mirror dimension, reflections become portals to parallel lives.'"
            ],
            "application/vnd.google.colaboratory.intrinsic+json": {
              "type": "string"
            }
          },
          "metadata": {},
          "execution_count": 42
        }
      ]
    },
    {
      "cell_type": "code",
      "source": [],
      "metadata": {
        "id": "f-OXU-IPm0pv"
      },
      "execution_count": null,
      "outputs": []
    }
  ]
}